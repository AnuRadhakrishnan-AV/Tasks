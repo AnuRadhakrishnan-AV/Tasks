{
 "cells": [
  {
   "cell_type": "markdown",
   "id": "2d3cb2d1",
   "metadata": {},
   "source": [
    "# 1 Program to sort the elements of an array in asending order"
   ]
  },
  {
   "cell_type": "code",
   "execution_count": 3,
   "id": "4b5cd4e7",
   "metadata": {},
   "outputs": [
    {
     "name": "stdout",
     "output_type": "stream",
     "text": [
      "The sorted array is:  [1, 2, 3, 5, 7, 9]\n"
     ]
    }
   ],
   "source": [
    "array1=[5,3,7,2,9,1]\n",
    "for i in range(0,len(array1)):\n",
    "    for j in range(i+1,len(array1)):\n",
    "        if array1[i]>array1[j]:\n",
    "            array1[i],array1[j]=array1[j],array1[i]\n",
    "print(\"The sorted array is: \",array1)"
   ]
  },
  {
   "cell_type": "markdown",
   "id": "1608d128",
   "metadata": {},
   "source": [
    "# 2 Program to sort the elements of an array in descending order."
   ]
  },
  {
   "cell_type": "code",
   "execution_count": 5,
   "id": "68df3b7e",
   "metadata": {},
   "outputs": [
    {
     "name": "stdout",
     "output_type": "stream",
     "text": [
      "[9, 7, 5, 3, 2, 1]\n"
     ]
    }
   ],
   "source": [
    "array2=[5,3,7,2,9,1]\n",
    "for i in range(0,len(array2)):\n",
    "    for j in range(i+1,len(array2)):\n",
    "        if array2[i]<array2[j]:\n",
    "            array2[i],array2[j]=array2[j],array2[i]\n",
    "print(array2)\n",
    "        "
   ]
  },
  {
   "cell_type": "markdown",
   "id": "5f74b7e7",
   "metadata": {},
   "source": [
    "# 3 Print even and odd numbers in an array"
   ]
  },
  {
   "cell_type": "code",
   "execution_count": 8,
   "id": "d3eab7c5",
   "metadata": {},
   "outputs": [
    {
     "name": "stdout",
     "output_type": "stream",
     "text": [
      "Odd numbers in the array are:  [1, 3, 5, 7, 9]\n",
      "Even numbers in the array are:  [2, 4, 6, 8, 10]\n"
     ]
    }
   ],
   "source": [
    "array3=[1,2,3,4,5,6,7,8,9,10]\n",
    "odd=[]\n",
    "even=[]\n",
    "for i in array3:\n",
    "    if i%2!=0:\n",
    "        odd.append(i)\n",
    "    else:\n",
    "        even.append(i)\n",
    "print(\"Odd numbers in the array are: \",odd)\n",
    "print(\"Even numbers in the array are: \",even)"
   ]
  },
  {
   "cell_type": "markdown",
   "id": "bf6b6b0c",
   "metadata": {},
   "source": [
    "# 4.Program to calculate the addition of 2 matrices"
   ]
  },
  {
   "cell_type": "code",
   "execution_count": 22,
   "id": "1cc94fbe",
   "metadata": {},
   "outputs": [
    {
     "name": "stdout",
     "output_type": "stream",
     "text": [
      "[6, 4, 6]\n"
     ]
    }
   ],
   "source": [
    "m1=[[1,2,3]]\n",
    "m2=[[5,2,3]]\n",
    "sum_m=[[0,0,0]]\n",
    "for i in range(len(m1)):\n",
    "    for j in range(len(m1[0])):\n",
    "        sum_m[i][j]=m1[i][j]+m2[i][j]\n",
    "for r in sum_m:\n",
    "    print(r)\n",
    "   "
   ]
  },
  {
   "cell_type": "markdown",
   "id": "7e7c548d",
   "metadata": {},
   "source": [
    "# 5 Program to count the total number of vowels and consonents in a string"
   ]
  },
  {
   "cell_type": "code",
   "execution_count": 1,
   "id": "2333003f",
   "metadata": {},
   "outputs": [
    {
     "name": "stdout",
     "output_type": "stream",
     "text": [
      "enter a stringApple\n",
      "count of vowels 2\n",
      "count of consonents 3\n"
     ]
    }
   ],
   "source": [
    "string1=input(\"enter a string\")\n",
    "vowels=[\"A\",\"E\",\"I\",\"O\",\"U\",\"a\",\"e\",\"i\",\"o\",\"u\"]\n",
    "count_vowels=0\n",
    "count_consonents=0\n",
    "for i in string1:\n",
    "    if i in vowels:\n",
    "        count_vowels+=1\n",
    "    else:\n",
    "        count_consonents+=1\n",
    "        \n",
    "print(\"count of vowels\",count_vowels)\n",
    "print(\"count of consonents\",count_consonents)\n",
    "        "
   ]
  },
  {
   "cell_type": "markdown",
   "id": "32a8d633",
   "metadata": {},
   "source": [
    "# 6 Program to remove all the white spaces from a string"
   ]
  },
  {
   "cell_type": "code",
   "execution_count": 3,
   "id": "21725aff",
   "metadata": {},
   "outputs": [
    {
     "name": "stdout",
     "output_type": "stream",
     "text": [
      "enter the stringpython programming\n",
      "pythonprogramming\n"
     ]
    }
   ],
   "source": [
    "string2=input(\"enter the string\")\n",
    "rem_string=\"\"\n",
    "for i in string2:\n",
    "    if i!=\" \":\n",
    "        rem_string+=i\n",
    "print(rem_string)        \n",
    "        \n"
   ]
  },
  {
   "cell_type": "markdown",
   "id": "4afe92e5",
   "metadata": {},
   "source": [
    "# 7 Program to count the total number of characters in a string"
   ]
  },
  {
   "cell_type": "code",
   "execution_count": 1,
   "id": "ef9ddfd9",
   "metadata": {},
   "outputs": [
    {
     "name": "stdout",
     "output_type": "stream",
     "text": [
      "enter a stringabc1234xyz\n",
      "6\n"
     ]
    }
   ],
   "source": [
    "string=input(\"enter a string\")\n",
    "count=0\n",
    "for i in string:\n",
    "    if i.isalpha():\n",
    "        count+=1\n",
    "print(count)        "
   ]
  },
  {
   "cell_type": "markdown",
   "id": "6bb7890e",
   "metadata": {},
   "source": [
    "# 8 Program to print total number of words in a string"
   ]
  },
  {
   "cell_type": "code",
   "execution_count": 5,
   "id": "1aac0c53",
   "metadata": {},
   "outputs": [
    {
     "name": "stdout",
     "output_type": "stream",
     "text": [
      "enter a stringpython is a popular programming language\n",
      "6\n"
     ]
    }
   ],
   "source": [
    "string=input(\"enter a string\").split(\" \")\n",
    "count=0\n",
    "for i in string:\n",
    "    count+=1\n",
    "print(count)\n",
    "    "
   ]
  },
  {
   "cell_type": "markdown",
   "id": "6595c5e5",
   "metadata": {},
   "source": [
    "# 9 To find an element from the string array"
   ]
  },
  {
   "cell_type": "code",
   "execution_count": 12,
   "id": "5a3ef405",
   "metadata": {},
   "outputs": [
    {
     "name": "stdout",
     "output_type": "stream",
     "text": [
      "b\n"
     ]
    }
   ],
   "source": [
    "array=[\"a\",\"b\",\"c\",\"d\"]\n",
    "for i in array:\n",
    "    if i==\"b\":\n",
    "        print(i)"
   ]
  },
  {
   "cell_type": "markdown",
   "id": "47e75103",
   "metadata": {},
   "source": [
    "# 10 Program to find reverse of a string"
   ]
  },
  {
   "cell_type": "code",
   "execution_count": 21,
   "id": "e3bde4b7",
   "metadata": {},
   "outputs": [
    {
     "name": "stdout",
     "output_type": "stream",
     "text": [
      "enter a stringhello world\n",
      "dlrow olleh\n"
     ]
    }
   ],
   "source": [
    "string=input(\"enter a string\")\n",
    "rev_string=\"\"\n",
    "for i in string:\n",
    "    rev_string=i+rev_string\n",
    "print(rev_string)"
   ]
  },
  {
   "cell_type": "code",
   "execution_count": null,
   "id": "03d6a1d4",
   "metadata": {},
   "outputs": [],
   "source": []
  }
 ],
 "metadata": {
  "kernelspec": {
   "display_name": "Python 3 (ipykernel)",
   "language": "python",
   "name": "python3"
  },
  "language_info": {
   "codemirror_mode": {
    "name": "ipython",
    "version": 3
   },
   "file_extension": ".py",
   "mimetype": "text/x-python",
   "name": "python",
   "nbconvert_exporter": "python",
   "pygments_lexer": "ipython3",
   "version": "3.9.13"
  }
 },
 "nbformat": 4,
 "nbformat_minor": 5
}
