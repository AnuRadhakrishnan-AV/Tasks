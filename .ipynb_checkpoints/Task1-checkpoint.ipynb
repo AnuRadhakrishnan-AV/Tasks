{
 "cells": [
  {
   "cell_type": "markdown",
   "id": "6c565da9",
   "metadata": {},
   "source": [
    "# 1. Boolean checkZeros(int[] numberList)      Check if the array numberList has one and only one zero in it. Only use a single for loop.Assume there are n numbers in the array."
   ]
  },
  {
   "cell_type": "code",
   "execution_count": 14,
   "id": "ca78a993",
   "metadata": {},
   "outputs": [
    {
     "name": "stdout",
     "output_type": "stream",
     "text": [
      "there is only one zero\n"
     ]
    }
   ],
   "source": [
    "array1=[1,2,3,4,6,2,5,0]\n",
    "count=0\n",
    "for i in array1:\n",
    "    if i==0:\n",
    "        count+=1\n",
    "if count==1:\n",
    "    print(\"there is only one zero\")\n",
    "            \n",
    "else:\n",
    "    print(\"there is more than one zero\")\n"
   ]
  },
  {
   "cell_type": "markdown",
   "id": "bee90a0e",
   "metadata": {},
   "source": [
    "# 2. int[] sort(int[] numberList)    Use any sorting algoritm to sort array numberlist"
   ]
  },
  {
   "cell_type": "code",
   "execution_count": 14,
   "id": "e8fba3b3",
   "metadata": {},
   "outputs": [
    {
     "name": "stdout",
     "output_type": "stream",
     "text": [
      "enter the numbers2,6,4,8,3\n",
      "['2', '3', '4', '6', '8']\n"
     ]
    }
   ],
   "source": [
    "a=input(\"enter the numbers\").split(\",\")\n",
    "for i in range(0,len(a)):\n",
    "    for j in range(i+1,len(a)):\n",
    "        if (a[i]>a[j]):\n",
    "            a[i],a[j]=a[j],a[i]\n",
    "print(a)"
   ]
  },
  {
   "cell_type": "markdown",
   "id": "f6148651",
   "metadata": {},
   "source": [
    "# 3. String replaceSpace(char[]sentance)   Replace every space in the string sentance with \"--\" and return the string  Eg: If a sentance is \"I am a doctor\", you need to return \"I-- am--a--doctor\"."
   ]
  },
  {
   "cell_type": "code",
   "execution_count": 9,
   "id": "d6253be5",
   "metadata": {},
   "outputs": [
    {
     "name": "stdout",
     "output_type": "stream",
     "text": [
      "enter a string:i am a doctor\n",
      "i--am--a--doctor\n"
     ]
    }
   ],
   "source": [
    "string1=input(\"enter a string:\")\n",
    "k=string1.replace(\" \",\"--\")\n",
    "print(k)"
   ]
  },
  {
   "cell_type": "code",
   "execution_count": 10,
   "id": "e5ef125f",
   "metadata": {},
   "outputs": [
    {
     "name": "stdout",
     "output_type": "stream",
     "text": [
      "enter a string:i am a doctor\n",
      "i--am--a--doctor"
     ]
    }
   ],
   "source": [
    "string1=input(\"enter a string:\")\n",
    "for i in string1:\n",
    "    for j in i:\n",
    "        if j==\" \":\n",
    "            print(\"--\",end=\"\")\n",
    "        else:\n",
    "            print(j,end=\"\")       "
   ]
  },
  {
   "cell_type": "markdown",
   "id": "3d6f44c4",
   "metadata": {},
   "source": [
    "# 4. Boolean checkUnique(char[] word) Check if all characters in the string are unique  Eg:mobile-true, because all characters in the string word are unique  Calculator-false,because c,l and a repeat multiple times"
   ]
  },
  {
   "cell_type": "code",
   "execution_count": 5,
   "id": "14c0e5fe",
   "metadata": {},
   "outputs": [
    {
     "name": "stdout",
     "output_type": "stream",
     "text": [
      "enter a string: calculator\n",
      "{'c': 2, 'a': 2, 'l': 2, 'u': 1, 't': 1, 'o': 1, 'r': 1}\n",
      "dict_values([2, 2, 2, 1, 1, 1, 1])\n",
      "false\n"
     ]
    }
   ],
   "source": [
    "string1=input(\"enter a string: \")\n",
    "count={}\n",
    "for i in string1:\n",
    "    if i in count:\n",
    "        count[i]+=1\n",
    "    else:\n",
    "        count[i]=1\n",
    "print(count)\n",
    "count1=count.values()\n",
    "print(count1)\n",
    "for j in count1:\n",
    "    if j>1:\n",
    "        print(\"false\")\n",
    "        break\n",
    "else:\n",
    "    print(\"true\")\n"
   ]
  },
  {
   "cell_type": "markdown",
   "id": "66f0bad1",
   "metadata": {},
   "source": [
    "# 5.int search(int[] a,int number)   Search for the number in array. If found,return its position/index.Assume there are n numbers in the array."
   ]
  },
  {
   "cell_type": "code",
   "execution_count": 41,
   "id": "10c7a3f5",
   "metadata": {},
   "outputs": [
    {
     "name": "stdout",
     "output_type": "stream",
     "text": [
      "enter the numbers: 3,5,7,8\n",
      "enter which number you want to search: 8\n",
      "The position of  8 is 3\n"
     ]
    }
   ],
   "source": [
    "array1=input(\"enter the numbers: \").split(\",\")\n",
    "s_no=input(\"enter which number you want to search: \")\n",
    "for i in range(len(array1)):\n",
    "    if array1[i]==s_no:\n",
    "        print(\"The position of \",array1[i],\"is\",i)\n",
    "    "
   ]
  },
  {
   "cell_type": "markdown",
   "id": "0502f286",
   "metadata": {},
   "source": [
    "# 6.int swap(int a,int b)     swap two numbers without using a third number"
   ]
  },
  {
   "cell_type": "code",
   "execution_count": 4,
   "id": "a242152f",
   "metadata": {},
   "outputs": [
    {
     "name": "stdout",
     "output_type": "stream",
     "text": [
      "enter first number1\n",
      "enter second number4\n",
      "number contain a is  4\n",
      "number contain b is  1\n"
     ]
    }
   ],
   "source": [
    "a=input(\"enter first number\")\n",
    "b=input(\"enter second number\")\n",
    "a,b=b,a\n",
    "print(\"number contain a is \",a)\n",
    "print(\"number contain b is \",b)"
   ]
  },
  {
   "cell_type": "markdown",
   "id": "84f50e33",
   "metadata": {},
   "source": [
    "# 7. int[] find_mismatched(int[] a,int[] b)     if an array a is [1,2,4,32,12,6,8] and b is [2,6,10,12,1417] return or print the number which is present in a not in b"
   ]
  },
  {
   "cell_type": "code",
   "execution_count": 23,
   "id": "ac5c7127",
   "metadata": {},
   "outputs": [
    {
     "name": "stdout",
     "output_type": "stream",
     "text": [
      "numbers are in a not in b:  [1, 4, 32, 8]\n"
     ]
    }
   ],
   "source": [
    "a=[1,2,4,32,12,6,8]\n",
    "b=[2,6,10,12,1417]\n",
    "c=[]\n",
    "for i in a:\n",
    "    if i not in b:\n",
    "        c.append(i)\n",
    "print(\"numbers are in a not in b: \",c)"
   ]
  },
  {
   "cell_type": "markdown",
   "id": "29162a6c",
   "metadata": {},
   "source": [
    "# 8.int findsmallOrBig(int[] a) if an array is a=[1,2,32,12,6,8] the bigger number is 32 and the smallest number is 1"
   ]
  },
  {
   "cell_type": "code",
   "execution_count": 42,
   "id": "52649b10",
   "metadata": {},
   "outputs": [
    {
     "name": "stdout",
     "output_type": "stream",
     "text": [
      "The biggest number is:  32\n",
      "The smallest number is:  1\n"
     ]
    }
   ],
   "source": [
    "array1=[1,2,4,32,12,6,8]\n",
    "high=array1[0]\n",
    "small=array1[0]\n",
    "for i in array1:\n",
    "    if i>high:\n",
    "        high=i\n",
    "    elif i<small:\n",
    "        small=i\n",
    "print(\"The biggest number is: \",high)\n",
    "print(\"The smallest number is: \",small)\n"
   ]
  },
  {
   "cell_type": "markdown",
   "id": "65ddef72",
   "metadata": {},
   "source": [
    "# 9.boolean checkWrongOrWrite(char[] a)    Check whether the string contains more or equal to three vowels(a,e,i,o,u) if yes then the string is false,else true"
   ]
  },
  {
   "cell_type": "code",
   "execution_count": 19,
   "id": "8207496e",
   "metadata": {},
   "outputs": [
    {
     "name": "stdout",
     "output_type": "stream",
     "text": [
      "2\n",
      "true\n"
     ]
    }
   ],
   "source": [
    "string1=\"apple\"\n",
    "vowels=[\"A\",\"E\",\"I\",\"O\",\"U\",\"a\",\"e\",\"i\",\"o\",\"u\"]\n",
    "count=0\n",
    "for i in string1:\n",
    "    for j in vowels:\n",
    "        if i==j:\n",
    "            count+=1\n",
    "print(count)\n",
    "if count>=3:\n",
    "    print(\"false\")\n",
    "else:\n",
    "    print(\"true\")\n",
    "            "
   ]
  },
  {
   "cell_type": "markdown",
   "id": "ec9fd4a5",
   "metadata": {},
   "source": [
    "# 10.String removeDuplicate(char[] a)   Remove duplicates character from the string and return a new stringwith no duplicate characters for eg: if the string is \"calculator\" return string as 'utor'"
   ]
  },
  {
   "cell_type": "code",
   "execution_count": 12,
   "id": "e6d986e5",
   "metadata": {},
   "outputs": [
    {
     "name": "stdout",
     "output_type": "stream",
     "text": [
      "utor\n"
     ]
    }
   ],
   "source": [
    "l=\"calculator\"\n",
    "l1=\"\"\n",
    "for i in l:\n",
    "    if l.count(i)==1:\n",
    "        l1+=i\n",
    "print(l1)"
   ]
  },
  {
   "cell_type": "code",
   "execution_count": null,
   "id": "8302a3c4",
   "metadata": {},
   "outputs": [],
   "source": []
  },
  {
   "cell_type": "code",
   "execution_count": null,
   "id": "4d79cadb",
   "metadata": {},
   "outputs": [],
   "source": []
  }
 ],
 "metadata": {
  "kernelspec": {
   "display_name": "Python 3 (ipykernel)",
   "language": "python",
   "name": "python3"
  },
  "language_info": {
   "codemirror_mode": {
    "name": "ipython",
    "version": 3
   },
   "file_extension": ".py",
   "mimetype": "text/x-python",
   "name": "python",
   "nbconvert_exporter": "python",
   "pygments_lexer": "ipython3",
   "version": "3.9.13"
  }
 },
 "nbformat": 4,
 "nbformat_minor": 5
}
