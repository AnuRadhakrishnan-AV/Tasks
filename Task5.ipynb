{
 "cells": [
  {
   "cell_type": "markdown",
   "id": "d1a50974",
   "metadata": {},
   "source": [
    "# 1 Program to swap two numbers"
   ]
  },
  {
   "cell_type": "code",
   "execution_count": 3,
   "id": "66da5765",
   "metadata": {},
   "outputs": [
    {
     "name": "stdout",
     "output_type": "stream",
     "text": [
      "3 2\n"
     ]
    }
   ],
   "source": [
    "num1=2\n",
    "num2=3\n",
    "temp=num1\n",
    "num1=num2\n",
    "num2=temp\n",
    "print(num1,num2)"
   ]
  },
  {
   "cell_type": "markdown",
   "id": "3e9724c3",
   "metadata": {},
   "source": [
    "# 2 Program to swap two numbers without using the third variable"
   ]
  },
  {
   "cell_type": "code",
   "execution_count": 2,
   "id": "eae87e7a",
   "metadata": {},
   "outputs": [
    {
     "name": "stdout",
     "output_type": "stream",
     "text": [
      "3 2\n"
     ]
    }
   ],
   "source": [
    "num1=2\n",
    "num2=3\n",
    "num1,num2=num2,num1\n",
    "print(num1,num2)"
   ]
  },
  {
   "cell_type": "markdown",
   "id": "9c78bbfc",
   "metadata": {},
   "source": [
    "# 3 Program to print the elements of an array"
   ]
  },
  {
   "cell_type": "code",
   "execution_count": 5,
   "id": "4d2b374c",
   "metadata": {},
   "outputs": [
    {
     "name": "stdout",
     "output_type": "stream",
     "text": [
      "1\n",
      "2\n",
      "3\n",
      "4\n",
      "5\n"
     ]
    }
   ],
   "source": [
    "array1=[1,2,3,4,5]\n",
    "for i in array1:\n",
    "    print(i)"
   ]
  },
  {
   "cell_type": "markdown",
   "id": "d1450559",
   "metadata": {},
   "source": [
    "# 4 Program to print the elements of an array in reverse order\n"
   ]
  },
  {
   "cell_type": "code",
   "execution_count": 25,
   "id": "ae2124f0",
   "metadata": {},
   "outputs": [
    {
     "name": "stdout",
     "output_type": "stream",
     "text": [
      "5\n",
      "4\n",
      "3\n",
      "2\n",
      "6\n"
     ]
    }
   ],
   "source": [
    "array2=[6,2,3,4,5]\n",
    "r_array2=array2[::-1]\n",
    "for i in r_array2:\n",
    "    print(i)"
   ]
  },
  {
   "cell_type": "markdown",
   "id": "2b2b789e",
   "metadata": {},
   "source": [
    "# 5. Program to print the largest element present in the array"
   ]
  },
  {
   "cell_type": "code",
   "execution_count": 20,
   "id": "dcf0b1c1",
   "metadata": {},
   "outputs": [
    {
     "name": "stdout",
     "output_type": "stream",
     "text": [
      "Largest element is:  9\n"
     ]
    }
   ],
   "source": [
    "array3=[5,3,6,7,8,1,9,3]\n",
    "largest=array3[0]\n",
    "for i in array3:\n",
    "    if i>largest:\n",
    "        largest=i\n",
    "print(\"Largest element is: \",largest)"
   ]
  },
  {
   "cell_type": "code",
   "execution_count": null,
   "id": "5e7bf241",
   "metadata": {},
   "outputs": [],
   "source": []
  }
 ],
 "metadata": {
  "kernelspec": {
   "display_name": "Python 3 (ipykernel)",
   "language": "python",
   "name": "python3"
  },
  "language_info": {
   "codemirror_mode": {
    "name": "ipython",
    "version": 3
   },
   "file_extension": ".py",
   "mimetype": "text/x-python",
   "name": "python",
   "nbconvert_exporter": "python",
   "pygments_lexer": "ipython3",
   "version": "3.9.13"
  }
 },
 "nbformat": 4,
 "nbformat_minor": 5
}
