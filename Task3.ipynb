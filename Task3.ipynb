{
 "cells": [
  {
   "cell_type": "markdown",
   "id": "81da659b",
   "metadata": {},
   "source": [
    "# 1.Check the given number is odd or even"
   ]
  },
  {
   "cell_type": "code",
   "execution_count": 5,
   "id": "a6063ca8",
   "metadata": {},
   "outputs": [
    {
     "name": "stdout",
     "output_type": "stream",
     "text": [
      "enter a number3\n",
      "It is odd number\n"
     ]
    }
   ],
   "source": [
    "n=int(input(\"enter a number\"))\n",
    "if n%2==0:\n",
    "    print(\"It is even number\")\n",
    "else:\n",
    "    print(\"It is odd number\")"
   ]
  },
  {
   "cell_type": "markdown",
   "id": "7fff75bf",
   "metadata": {},
   "source": [
    "# 2 Check the given number is amstrong or not"
   ]
  },
  {
   "cell_type": "code",
   "execution_count": 26,
   "id": "4e88f6cd",
   "metadata": {},
   "outputs": [
    {
     "name": "stdout",
     "output_type": "stream",
     "text": [
      "enter a number1634\n",
      "It is an armstrong number\n"
     ]
    }
   ],
   "source": [
    "n=input(\"enter a number\")\n",
    "l=len(n)\n",
    "a=0\n",
    "for i in n:\n",
    "    a+=int(i)**l\n",
    "if a==int(n):\n",
    "    print(\"It is an armstrong number\")\n",
    "else:\n",
    "    print(\"It is not a armstrong number\")"
   ]
  },
  {
   "cell_type": "markdown",
   "id": "34229aa0",
   "metadata": {},
   "source": [
    "# 3 Check the given number is palindrome or not"
   ]
  },
  {
   "cell_type": "code",
   "execution_count": 6,
   "id": "733a7851",
   "metadata": {},
   "outputs": [
    {
     "name": "stdout",
     "output_type": "stream",
     "text": [
      "enter a number54345\n",
      "54345\n",
      "it is palindrome number\n"
     ]
    }
   ],
   "source": [
    "n=input(\"enter a number\")\n",
    "rev=\"\"\n",
    "for i in n:\n",
    "    rev=i+rev\n",
    "print(rev)\n",
    "if n==rev:\n",
    "    print(\"it is palindrome number\")\n",
    "else:\n",
    "    print(\"its not a palindrome number\")\n"
   ]
  },
  {
   "cell_type": "markdown",
   "id": "de12e5a2",
   "metadata": {},
   "source": [
    "# 4 Check a string is palindrome"
   ]
  },
  {
   "cell_type": "code",
   "execution_count": 9,
   "id": "a3da6aaa",
   "metadata": {},
   "outputs": [
    {
     "name": "stdout",
     "output_type": "stream",
     "text": [
      "enter the stringhah\n",
      "this string is palindrome\n",
      "hah\n"
     ]
    }
   ],
   "source": [
    "string1=input('enter the string')\n",
    "rev=\"\"\n",
    "for i in string1:\n",
    "    rev=i+rev\n",
    "if rev==string1:\n",
    "    print(\"this string is palindrome\")\n",
    "else:\n",
    "    print(\"this string is not palindrome\")\n",
    "print(rev)"
   ]
  },
  {
   "cell_type": "markdown",
   "id": "bc52b521",
   "metadata": {},
   "source": [
    "# 5. Program to find the factorial of a number"
   ]
  },
  {
   "cell_type": "code",
   "execution_count": 16,
   "id": "e3d4e682",
   "metadata": {},
   "outputs": [
    {
     "name": "stdout",
     "output_type": "stream",
     "text": [
      "enter a number3\n",
      "6\n"
     ]
    }
   ],
   "source": [
    "n=int(input(\"enter a number\"))\n",
    "fact=1\n",
    "for i in range(1,n+1):\n",
    "    fact=fact*i\n",
    "    \n",
    "print(fact)\n",
    "    \n",
    "    "
   ]
  },
  {
   "cell_type": "code",
   "execution_count": null,
   "id": "9f4a476d",
   "metadata": {},
   "outputs": [],
   "source": []
  }
 ],
 "metadata": {
  "kernelspec": {
   "display_name": "Python 3 (ipykernel)",
   "language": "python",
   "name": "python3"
  },
  "language_info": {
   "codemirror_mode": {
    "name": "ipython",
    "version": 3
   },
   "file_extension": ".py",
   "mimetype": "text/x-python",
   "name": "python",
   "nbconvert_exporter": "python",
   "pygments_lexer": "ipython3",
   "version": "3.9.13"
  }
 },
 "nbformat": 4,
 "nbformat_minor": 5
}
