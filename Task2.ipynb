{
 "cells": [
  {
   "cell_type": "markdown",
   "id": "23334eb7",
   "metadata": {},
   "source": [
    "# 1 Program to calculate the area of a rectangle"
   ]
  },
  {
   "cell_type": "code",
   "execution_count": 3,
   "id": "9e7cbbda",
   "metadata": {},
   "outputs": [
    {
     "name": "stdout",
     "output_type": "stream",
     "text": [
      "enter the length2\n",
      "enter the width3\n",
      "Area of rectangle is 6.0\n"
     ]
    }
   ],
   "source": [
    "length=float(input(\"enter the length\"))\n",
    "width=float(input(\"enter the width\"))\n",
    "area=length*width\n",
    "print(\"Area of rectangle is\",area)"
   ]
  },
  {
   "cell_type": "markdown",
   "id": "f2f45101",
   "metadata": {},
   "source": [
    "# 2 Program to find the area of square"
   ]
  },
  {
   "cell_type": "code",
   "execution_count": 5,
   "id": "03b3d076",
   "metadata": {},
   "outputs": [
    {
     "name": "stdout",
     "output_type": "stream",
     "text": [
      "enter a side of the square5\n",
      "Area of square is:  25.0\n"
     ]
    }
   ],
   "source": [
    "a=float(input(\"enter a side of the square\"))\n",
    "print(\"Area of square is: \",a*a)"
   ]
  },
  {
   "cell_type": "markdown",
   "id": "54ea0c15",
   "metadata": {},
   "source": [
    "# 3 Check the given number is prime or not"
   ]
  },
  {
   "cell_type": "code",
   "execution_count": 14,
   "id": "8e1e7e81",
   "metadata": {},
   "outputs": [
    {
     "name": "stdout",
     "output_type": "stream",
     "text": [
      "enter the number2\n",
      "its a prime number|\n"
     ]
    }
   ],
   "source": [
    "number=int(input(\"enter the number\"))\n",
    "if number>1:\n",
    "    for i in range(2,number):\n",
    "        if number%i==0:\n",
    "            print(\"its not a prime number\")\n",
    "            break\n",
    "    else:\n",
    "        print(\"its a prime number|\")\n",
    "        \n"
   ]
  },
  {
   "cell_type": "code",
   "execution_count": null,
   "id": "f2d59261",
   "metadata": {},
   "outputs": [],
   "source": []
  }
 ],
 "metadata": {
  "kernelspec": {
   "display_name": "Python 3 (ipykernel)",
   "language": "python",
   "name": "python3"
  },
  "language_info": {
   "codemirror_mode": {
    "name": "ipython",
    "version": 3
   },
   "file_extension": ".py",
   "mimetype": "text/x-python",
   "name": "python",
   "nbconvert_exporter": "python",
   "pygments_lexer": "ipython3",
   "version": "3.9.13"
  }
 },
 "nbformat": 4,
 "nbformat_minor": 5
}
