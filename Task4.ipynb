{
 "cells": [
  {
   "cell_type": "markdown",
   "id": "8ff98c52",
   "metadata": {},
   "source": [
    "# 1. Program to find factorial of a number"
   ]
  },
  {
   "cell_type": "code",
   "execution_count": 2,
   "id": "3d4ae84b",
   "metadata": {},
   "outputs": [
    {
     "name": "stdout",
     "output_type": "stream",
     "text": [
      "enter a number3\n",
      "6\n"
     ]
    }
   ],
   "source": [
    "n=int(input(\"enter a number\"))\n",
    "fact=1\n",
    "for i in range(1,n+1):\n",
    "    fact=fact*i\n",
    "print(fact)"
   ]
  },
  {
   "cell_type": "markdown",
   "id": "867424f5",
   "metadata": {},
   "source": [
    "# 2 .Print fibonacci series"
   ]
  },
  {
   "cell_type": "code",
   "execution_count": 7,
   "id": "8b7e818d",
   "metadata": {},
   "outputs": [
    {
     "name": "stdout",
     "output_type": "stream",
     "text": [
      "enter the range10\n",
      "0\n",
      "1\n",
      "1\n",
      "2\n",
      "3\n",
      "5\n",
      "8\n",
      "13\n",
      "21\n",
      "34\n"
     ]
    }
   ],
   "source": [
    "n=int(input(\"enter the range\"))\n",
    "f=0\n",
    "s=1\n",
    "print(f)\n",
    "print(s)\n",
    "for i in range(3,n+1):\n",
    "    sum=f+s\n",
    "    print(sum)\n",
    "    f=s\n",
    "    s=sum\n"
   ]
  },
  {
   "cell_type": "markdown",
   "id": "9a50440c",
   "metadata": {},
   "source": [
    "# 3. Program to print all prime numbers between 1 to 100"
   ]
  },
  {
   "cell_type": "code",
   "execution_count": 14,
   "id": "963de68c",
   "metadata": {},
   "outputs": [
    {
     "name": "stdout",
     "output_type": "stream",
     "text": [
      "2\n",
      "3\n",
      "5\n",
      "7\n",
      "11\n",
      "13\n",
      "17\n",
      "19\n",
      "23\n",
      "29\n",
      "31\n",
      "37\n",
      "41\n",
      "43\n",
      "47\n",
      "53\n",
      "59\n",
      "61\n",
      "67\n",
      "71\n",
      "73\n",
      "79\n",
      "83\n",
      "89\n",
      "97\n"
     ]
    }
   ],
   "source": [
    "start=1\n",
    "stop=100\n",
    "for i in range(start,stop+1):\n",
    "    if i>1:\n",
    "        for j in range(2,i):\n",
    "            if i%j==0:\n",
    "                break\n",
    "        else:\n",
    "            print(i)"
   ]
  },
  {
   "cell_type": "markdown",
   "id": "d51a3f4b",
   "metadata": {},
   "source": [
    "# 4. Program to print the average of n numbers"
   ]
  },
  {
   "cell_type": "code",
   "execution_count": 22,
   "id": "3096e816",
   "metadata": {},
   "outputs": [
    {
     "name": "stdout",
     "output_type": "stream",
     "text": [
      "enter the numbers3\n",
      "Average is:  2.0\n"
     ]
    }
   ],
   "source": [
    "n=int(input(\"enter the numbers\"))\n",
    "sum=0\n",
    "for i in range(0,n+1):\n",
    "    sum+=int(i)\n",
    "    avg=sum/n\n",
    "print(\"Average is: \",avg)"
   ]
  },
  {
   "cell_type": "markdown",
   "id": "f77e817f",
   "metadata": {},
   "source": [
    "# 5. Program to print the sum of digits"
   ]
  },
  {
   "cell_type": "code",
   "execution_count": 34,
   "id": "21220d65",
   "metadata": {},
   "outputs": [
    {
     "name": "stdout",
     "output_type": "stream",
     "text": [
      "enter the number1234\n",
      "sum of digit is:  10\n"
     ]
    }
   ],
   "source": [
    "number=input(\"enter the number\")\n",
    "sum=0\n",
    "for i in number:\n",
    "    sum+=int(i)\n",
    "print(\"sum of digit is: \",sum)"
   ]
  },
  {
   "cell_type": "code",
   "execution_count": null,
   "id": "0b9eba9d",
   "metadata": {},
   "outputs": [],
   "source": []
  }
 ],
 "metadata": {
  "kernelspec": {
   "display_name": "Python 3 (ipykernel)",
   "language": "python",
   "name": "python3"
  },
  "language_info": {
   "codemirror_mode": {
    "name": "ipython",
    "version": 3
   },
   "file_extension": ".py",
   "mimetype": "text/x-python",
   "name": "python",
   "nbconvert_exporter": "python",
   "pygments_lexer": "ipython3",
   "version": "3.9.13"
  }
 },
 "nbformat": 4,
 "nbformat_minor": 5
}
